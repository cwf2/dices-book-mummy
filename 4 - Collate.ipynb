{
 "cells": [
  {
   "cell_type": "markdown",
   "id": "a55a9bfd-8acd-48a7-804b-178715de3673",
   "metadata": {},
   "source": [
    "# Preliminaries\n",
    "\n",
    "## Import statements"
   ]
  },
  {
   "cell_type": "code",
   "execution_count": null,
   "id": "744ba3ce-0332-4783-a274-9fe4ba09d977",
   "metadata": {},
   "outputs": [],
   "source": [
    "import os\n",
    "import time\n",
    "import pandas as pd"
   ]
  },
  {
   "cell_type": "markdown",
   "id": "3963db94-1c1b-4c5e-8da9-a2b9dc6c7d24",
   "metadata": {},
   "source": [
    "## Paths"
   ]
  },
  {
   "cell_type": "code",
   "execution_count": null,
   "id": "cacd692a-f01d-4b0f-bbb8-a436b7ae4035",
   "metadata": {},
   "outputs": [],
   "source": [
    "data_dir = \"data\"\n",
    "spacy_file = \"spacy_tokens.csv\"\n",
    "cltk_file = \"cltk_tokens.csv\"\n",
    "merged_file = \"merged.csv\""
   ]
  },
  {
   "cell_type": "markdown",
   "id": "b2ce1596-5d2a-4687-b1ba-1ed3d389af8e",
   "metadata": {},
   "source": [
    "## Check for data\n",
    "\n",
    "Make sure that the previous two notebooks have been run and their output is present."
   ]
  },
  {
   "cell_type": "code",
   "execution_count": null,
   "id": "5701abcd-eb13-4151-aaa0-748264ba53f9",
   "metadata": {},
   "outputs": [],
   "source": [
    "old = 0\n",
    "failed = 0\n",
    "\n",
    "for filename in [spacy_file, cltk_file]:\n",
    "    path = os.path.join(\"data\", filename)\n",
    "\n",
    "    print(path, \"...\", end=\" \")\n",
    "    if os.path.exists(path):\n",
    "        if time.time() - os.path.getmtime(path) > 3600:\n",
    "            print(\"exists - note: data created more than one hour ago.\")\n",
    "            old += 1\n",
    "        else:\n",
    "            print(\"exists\")\n",
    "    else:\n",
    "        print(\"not found!\")\n",
    "        failed += 1\n",
    "print()\n",
    "\n",
    "if failed:\n",
    "    print(\"Some data is missing. You must run NLP before continuing.\")\n",
    "elif old:\n",
    "    print(\"Some data is old. Consider re-running NLP.\")\n",
    "else:\n",
    "    spacy_tokens = pd.read_csv(os.path.join(data_dir, spacy_file), dtype=str)\n",
    "    spacy_tokens[\"level\"] = spacy_tokens[\"level\"].astype(int)\n",
    "    cltk_tokens = pd.read_csv(os.path.join(data_dir, cltk_file), dtype=str)\n",
    "    cltk_tokens[\"level\"] = cltk_tokens[\"level\"].astype(int)"
   ]
  },
  {
   "cell_type": "markdown",
   "id": "760370da-51c9-4ad5-9fef-20f331cff3ea",
   "metadata": {
    "id": "760370da-51c9-4ad5-9fef-20f331cff3ea"
   },
   "source": [
    "## Deduplicate embedded lines"
   ]
  },
  {
   "cell_type": "code",
   "execution_count": null,
   "id": "a2f098be-b8e7-4e1e-a8aa-eb3b0868d50e",
   "metadata": {
    "id": "0ade7514-212c-44a0-a79f-313098eb83b7"
   },
   "outputs": [],
   "source": [
    "max_levels = cltk_tokens.groupby('line_id').agg(level=('level', 'max'))"
   ]
  },
  {
   "cell_type": "code",
   "execution_count": null,
   "id": "fe277f9b-baac-4da1-bed0-74c570ce9e76",
   "metadata": {
    "id": "0ade7514-212c-44a0-a79f-313098eb83b7"
   },
   "outputs": [],
   "source": [
    "x = cltk_tokens.loc[:,['line_id','level']].merge(max_levels, how='left', on='line_id')\n",
    "mask = x['level_x'] == x['level_y']\n",
    "cltk_no_dups = cltk_tokens.loc[mask]\n",
    "cltk_no_dups.to_csv('cltk_tokens.csv', index=False)\n",
    "display(cltk_no_dups)"
   ]
  },
  {
   "cell_type": "code",
   "execution_count": null,
   "id": "59b10f1d-420b-457b-b576-d77c7edd3610",
   "metadata": {
    "id": "59b10f1d-420b-457b-b576-d77c7edd3610"
   },
   "outputs": [],
   "source": [
    "x = spacy_tokens.loc[:,['line_id','level']].merge(max_levels, how='left', on='line_id')\n",
    "mask = x['level_x'] == x['level_y']\n",
    "spacy_no_dups = spacy_tokens.loc[mask]\n",
    "spacy_no_dups.to_csv('spacy_tokens.csv', index=False)\n",
    "display(spacy_no_dups)"
   ]
  },
  {
   "cell_type": "markdown",
   "id": "77600075-de12-4013-bbb8-100cc2dfa1a7",
   "metadata": {
    "editable": true,
    "id": "77600075-de12-4013-bbb8-100cc2dfa1a7",
    "tags": []
   },
   "source": [
    "### Alignment"
   ]
  },
  {
   "cell_type": "code",
   "execution_count": null,
   "id": "f82528e7-cfb9-4985-9927-f8d332e8c39e",
   "metadata": {
    "id": "f82528e7-cfb9-4985-9927-f8d332e8c39e"
   },
   "outputs": [],
   "source": [
    "cols = ['tok_id', 'token', 'lemma', 'pos', 'mood', 'tense', 'voice', 'aspect', 'person', 'number', 'case', 'gender', 'degree', 'verbform']\n",
    "merged = spacy_no_dups.merge(cltk_no_dups[cols], how='left', on='tok_id', suffixes=('_spacy', '_cltk'))\n",
    "merged.to_csv(os.path.join('data', 'merged.csv'), index=False)"
   ]
  },
  {
   "cell_type": "markdown",
   "id": "6d638b62-ceff-482f-9957-3ce9d9a993d5",
   "metadata": {},
   "source": [
    "### Output"
   ]
  },
  {
   "cell_type": "code",
   "execution_count": null,
   "id": "5361085e-0e12-44a8-b000-3c372c63d619",
   "metadata": {},
   "outputs": [],
   "source": [
    "merged.to_csv(os.path.join(data_dir, merged_file))\n",
    "merged"
   ]
  }
 ],
 "metadata": {
  "accelerator": "GPU",
  "colab": {
   "gpuType": "L4",
   "provenance": []
  },
  "kernelspec": {
   "display_name": "Python 3 (ipykernel)",
   "language": "python",
   "name": "python3"
  },
  "language_info": {
   "codemirror_mode": {
    "name": "ipython",
    "version": 3
   },
   "file_extension": ".py",
   "mimetype": "text/x-python",
   "name": "python",
   "nbconvert_exporter": "python",
   "pygments_lexer": "ipython3",
   "version": "3.10.17"
  }
 },
 "nbformat": 4,
 "nbformat_minor": 5
}
